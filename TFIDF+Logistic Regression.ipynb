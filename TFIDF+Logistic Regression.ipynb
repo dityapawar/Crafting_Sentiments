{
 "cells": [
  {
   "cell_type": "code",
   "execution_count": 1,
   "id": "531a5291",
   "metadata": {},
   "outputs": [],
   "source": [
    "from sklearn.model_selection import train_test_split\n",
    "import pandas as pd\n",
    "import numpy as np\n",
    "from sklearn.feature_extraction.text import TfidfVectorizer\n",
    "from sklearn.linear_model import LogisticRegression\n",
    "from sklearn.model_selection import train_test_split\n",
    "from sklearn.metrics import classification_report,confusion_matrix,accuracy_score,recall_score,precision_score,log_loss,f1_score,roc_auc_score"
   ]
  },
  {
   "cell_type": "code",
   "execution_count": 2,
   "id": "1b45991d",
   "metadata": {},
   "outputs": [],
   "source": [
    "df = pd.read_csv(\"C:/Users/vedan/Sem 1 SET/cleaned_dataset_final4.csv\")"
   ]
  },
  {
   "cell_type": "code",
   "execution_count": 3,
   "id": "a01a3538",
   "metadata": {
    "scrolled": true
   },
   "outputs": [
    {
     "data": {
      "text/html": [
       "<div>\n",
       "<style scoped>\n",
       "    .dataframe tbody tr th:only-of-type {\n",
       "        vertical-align: middle;\n",
       "    }\n",
       "\n",
       "    .dataframe tbody tr th {\n",
       "        vertical-align: top;\n",
       "    }\n",
       "\n",
       "    .dataframe thead th {\n",
       "        text-align: right;\n",
       "    }\n",
       "</style>\n",
       "<table border=\"1\" class=\"dataframe\">\n",
       "  <thead>\n",
       "    <tr style=\"text-align: right;\">\n",
       "      <th></th>\n",
       "      <th>Score</th>\n",
       "      <th>Summary</th>\n",
       "      <th>Text</th>\n",
       "      <th>final_rev</th>\n",
       "      <th>Label</th>\n",
       "    </tr>\n",
       "  </thead>\n",
       "  <tbody>\n",
       "    <tr>\n",
       "      <th>0</th>\n",
       "      <td>5</td>\n",
       "      <td>Good Quality Dog Food</td>\n",
       "      <td>I have bought several of the Vitality canned d...</td>\n",
       "      <td>bought several vitality canned dog food produc...</td>\n",
       "      <td>1</td>\n",
       "    </tr>\n",
       "    <tr>\n",
       "      <th>1</th>\n",
       "      <td>1</td>\n",
       "      <td>Not as Advertised</td>\n",
       "      <td>Product arrived labeled as Jumbo Salted Peanut...</td>\n",
       "      <td>product arrived labeled jumbo salted peanutsth...</td>\n",
       "      <td>0</td>\n",
       "    </tr>\n",
       "    <tr>\n",
       "      <th>2</th>\n",
       "      <td>4</td>\n",
       "      <td>\"Delight\" says it all</td>\n",
       "      <td>This is a confection that has been around a fe...</td>\n",
       "      <td>confection around century light pillowy citrus...</td>\n",
       "      <td>1</td>\n",
       "    </tr>\n",
       "    <tr>\n",
       "      <th>3</th>\n",
       "      <td>2</td>\n",
       "      <td>Cough Medicine</td>\n",
       "      <td>If you are looking for the secret ingredient i...</td>\n",
       "      <td>looking secret ingredient robitussin believe f...</td>\n",
       "      <td>0</td>\n",
       "    </tr>\n",
       "    <tr>\n",
       "      <th>4</th>\n",
       "      <td>5</td>\n",
       "      <td>Great taffy</td>\n",
       "      <td>Great taffy at a great price.  There was a wid...</td>\n",
       "      <td>great taffy great price wide assortment yummy ...</td>\n",
       "      <td>1</td>\n",
       "    </tr>\n",
       "    <tr>\n",
       "      <th>...</th>\n",
       "      <td>...</td>\n",
       "      <td>...</td>\n",
       "      <td>...</td>\n",
       "      <td>...</td>\n",
       "      <td>...</td>\n",
       "    </tr>\n",
       "    <tr>\n",
       "      <th>525809</th>\n",
       "      <td>5</td>\n",
       "      <td>Will not do without</td>\n",
       "      <td>Great for sesame chicken..this is a good if no...</td>\n",
       "      <td>great sesame chickenthis good better resturant...</td>\n",
       "      <td>1</td>\n",
       "    </tr>\n",
       "    <tr>\n",
       "      <th>525810</th>\n",
       "      <td>2</td>\n",
       "      <td>disappointed</td>\n",
       "      <td>I'm disappointed with the flavor. The chocolat...</td>\n",
       "      <td>im disappointed flavor chocolate note especial...</td>\n",
       "      <td>0</td>\n",
       "    </tr>\n",
       "    <tr>\n",
       "      <th>525811</th>\n",
       "      <td>5</td>\n",
       "      <td>Perfect for our maltipoo</td>\n",
       "      <td>These stars are small, so you can give 10-15 o...</td>\n",
       "      <td>star small give 1015 one training session trie...</td>\n",
       "      <td>1</td>\n",
       "    </tr>\n",
       "    <tr>\n",
       "      <th>525812</th>\n",
       "      <td>5</td>\n",
       "      <td>Favorite Training and reward treat</td>\n",
       "      <td>These are the BEST treats for training and rew...</td>\n",
       "      <td>best treat training rewarding dog good groomin...</td>\n",
       "      <td>1</td>\n",
       "    </tr>\n",
       "    <tr>\n",
       "      <th>525813</th>\n",
       "      <td>5</td>\n",
       "      <td>Great Honey</td>\n",
       "      <td>I am very satisfied ,product is as advertised,...</td>\n",
       "      <td>satisfied product advertised use cereal raw vi...</td>\n",
       "      <td>1</td>\n",
       "    </tr>\n",
       "  </tbody>\n",
       "</table>\n",
       "<p>525814 rows × 5 columns</p>\n",
       "</div>"
      ],
      "text/plain": [
       "        Score                             Summary  \\\n",
       "0           5               Good Quality Dog Food   \n",
       "1           1                   Not as Advertised   \n",
       "2           4               \"Delight\" says it all   \n",
       "3           2                      Cough Medicine   \n",
       "4           5                         Great taffy   \n",
       "...       ...                                 ...   \n",
       "525809      5                 Will not do without   \n",
       "525810      2                        disappointed   \n",
       "525811      5            Perfect for our maltipoo   \n",
       "525812      5  Favorite Training and reward treat   \n",
       "525813      5                         Great Honey   \n",
       "\n",
       "                                                     Text  \\\n",
       "0       I have bought several of the Vitality canned d...   \n",
       "1       Product arrived labeled as Jumbo Salted Peanut...   \n",
       "2       This is a confection that has been around a fe...   \n",
       "3       If you are looking for the secret ingredient i...   \n",
       "4       Great taffy at a great price.  There was a wid...   \n",
       "...                                                   ...   \n",
       "525809  Great for sesame chicken..this is a good if no...   \n",
       "525810  I'm disappointed with the flavor. The chocolat...   \n",
       "525811  These stars are small, so you can give 10-15 o...   \n",
       "525812  These are the BEST treats for training and rew...   \n",
       "525813  I am very satisfied ,product is as advertised,...   \n",
       "\n",
       "                                                final_rev  Label  \n",
       "0       bought several vitality canned dog food produc...      1  \n",
       "1       product arrived labeled jumbo salted peanutsth...      0  \n",
       "2       confection around century light pillowy citrus...      1  \n",
       "3       looking secret ingredient robitussin believe f...      0  \n",
       "4       great taffy great price wide assortment yummy ...      1  \n",
       "...                                                   ...    ...  \n",
       "525809  great sesame chickenthis good better resturant...      1  \n",
       "525810  im disappointed flavor chocolate note especial...      0  \n",
       "525811  star small give 1015 one training session trie...      1  \n",
       "525812  best treat training rewarding dog good groomin...      1  \n",
       "525813  satisfied product advertised use cereal raw vi...      1  \n",
       "\n",
       "[525814 rows x 5 columns]"
      ]
     },
     "execution_count": 3,
     "metadata": {},
     "output_type": "execute_result"
    }
   ],
   "source": [
    "df"
   ]
  },
  {
   "cell_type": "code",
   "execution_count": 4,
   "id": "6d927969",
   "metadata": {},
   "outputs": [],
   "source": [
    "X_train, X_test, y_train, y_test = train_test_split(df[\"final_rev\"], df[\"Label\"])"
   ]
  },
  {
   "cell_type": "code",
   "execution_count": 5,
   "id": "8991d895",
   "metadata": {
    "scrolled": true
   },
   "outputs": [
    {
     "name": "stdout",
     "output_type": "stream",
     "text": [
      "224635    licorice great ordering system get worked migh...\n",
      "480173    thought peanut brittle really good tasting act...\n",
      "517007    ordered two bagsbr one bag mostly sour 10 diff...\n",
      "197708    great dont smell 3 month old puppy probably ge...\n",
      "47461     love taste hot little tangy price good really ...\n",
      "                                ...                        \n",
      "308848    prefer drinking black white tea time herbal te...\n",
      "3479      love stuff put chicken even steak sweet bit sp...\n",
      "320753    monster reallly great mostly cold highly recom...\n",
      "336196    special k protein cereal good like mixed speci...\n",
      "49817     love honey often buy expensive gourmet type de...\n",
      "Name: final_rev, Length: 394360, dtype: object\n"
     ]
    }
   ],
   "source": [
    "print(X_train)"
   ]
  },
  {
   "cell_type": "code",
   "execution_count": 6,
   "id": "e872272f",
   "metadata": {},
   "outputs": [
    {
     "name": "stdout",
     "output_type": "stream",
     "text": [
      "396079    like chai dont waste money love tazo oregon pa...\n",
      "218818    arrived quickly box really banged open couple ...\n",
      "245811    good hot cocoa mix flavor double chocolate im ...\n",
      "461696    pleased 10lbs sugar well worth huge bag even p...\n",
      "254731    beef jerky strip really good texture right fla...\n",
      "                                ...                        \n",
      "462298    story go adopted cat agency last summer always...\n",
      "276631    youre looking alternative dairy soy best alter...\n",
      "324099    nice chocolate cured nice crisp hardness flavo...\n",
      "278556    ordered malossol salmon caviar received orange...\n",
      "203035    highly recommend cat food cat absolutely loved...\n",
      "Name: final_rev, Length: 131454, dtype: object\n"
     ]
    }
   ],
   "source": [
    "print(X_test)"
   ]
  },
  {
   "cell_type": "code",
   "execution_count": 7,
   "id": "c7627e97",
   "metadata": {
    "scrolled": false
   },
   "outputs": [
    {
     "data": {
      "text/plain": [
       "'product arrived labeled jumbo salted peanutsthe peanut actually small sized unsalted sure error vendor intended represent product jumbo'"
      ]
     },
     "execution_count": 7,
     "metadata": {},
     "output_type": "execute_result"
    }
   ],
   "source": [
    "X_train[1]"
   ]
  },
  {
   "cell_type": "code",
   "execution_count": 8,
   "id": "ba630fb7",
   "metadata": {},
   "outputs": [],
   "source": [
    "vect = TfidfVectorizer().fit(X_train)"
   ]
  },
  {
   "cell_type": "code",
   "execution_count": 9,
   "id": "8188f19e",
   "metadata": {},
   "outputs": [
    {
     "name": "stderr",
     "output_type": "stream",
     "text": [
      "C:\\ProgramData\\Anaconda3\\lib\\site-packages\\sklearn\\utils\\deprecation.py:87: FutureWarning: Function get_feature_names is deprecated; get_feature_names is deprecated in 1.0 and will be removed in 1.2. Please use get_feature_names_out instead.\n",
      "  warnings.warn(msg, category=FutureWarning)\n"
     ]
    },
    {
     "data": {
      "text/plain": [
       "187226"
      ]
     },
     "execution_count": 9,
     "metadata": {},
     "output_type": "execute_result"
    }
   ],
   "source": [
    "len(vect.get_feature_names())"
   ]
  },
  {
   "cell_type": "code",
   "execution_count": 10,
   "id": "c74d2234",
   "metadata": {},
   "outputs": [],
   "source": [
    "X_train_vectorized = vect.transform(X_train)"
   ]
  },
  {
   "cell_type": "code",
   "execution_count": 11,
   "id": "a9415729",
   "metadata": {
    "scrolled": true
   },
   "outputs": [
    {
     "name": "stderr",
     "output_type": "stream",
     "text": [
      "C:\\ProgramData\\Anaconda3\\lib\\site-packages\\sklearn\\linear_model\\_logistic.py:814: ConvergenceWarning: lbfgs failed to converge (status=1):\n",
      "STOP: TOTAL NO. of ITERATIONS REACHED LIMIT.\n",
      "\n",
      "Increase the number of iterations (max_iter) or scale the data as shown in:\n",
      "    https://scikit-learn.org/stable/modules/preprocessing.html\n",
      "Please also refer to the documentation for alternative solver options:\n",
      "    https://scikit-learn.org/stable/modules/linear_model.html#logistic-regression\n",
      "  n_iter_i = _check_optimize_result(\n"
     ]
    },
    {
     "data": {
      "text/plain": [
       "LogisticRegression()"
      ]
     },
     "execution_count": 11,
     "metadata": {},
     "output_type": "execute_result"
    }
   ],
   "source": [
    "model = LogisticRegression()\n",
    "model.fit(X_train_vectorized, y_train)"
   ]
  },
  {
   "cell_type": "code",
   "execution_count": 12,
   "id": "78883885",
   "metadata": {},
   "outputs": [],
   "source": [
    "predictions = model.predict(vect.transform(X_test))"
   ]
  },
  {
   "cell_type": "code",
   "execution_count": 13,
   "id": "24e85adf",
   "metadata": {
    "scrolled": false
   },
   "outputs": [
    {
     "name": "stderr",
     "output_type": "stream",
     "text": [
      "C:\\ProgramData\\Anaconda3\\lib\\site-packages\\sklearn\\utils\\deprecation.py:87: FutureWarning: Function get_feature_names is deprecated; get_feature_names is deprecated in 1.0 and will be removed in 1.2. Please use get_feature_names_out instead.\n",
      "  warnings.warn(msg, category=FutureWarning)\n"
     ]
    }
   ],
   "source": [
    "feature_names = np.array(vect.get_feature_names())"
   ]
  },
  {
   "cell_type": "code",
   "execution_count": 14,
   "id": "d68203b4",
   "metadata": {},
   "outputs": [],
   "source": [
    "sorted_coef_index = model.coef_[0].argsort()"
   ]
  },
  {
   "cell_type": "code",
   "execution_count": 15,
   "id": "bbcdbe17",
   "metadata": {
    "scrolled": false
   },
   "outputs": [
    {
     "name": "stdout",
     "output_type": "stream",
     "text": [
      "Most negative words ['worst' 'disappointing' 'terrible' 'awful' 'disappointed'\n",
      " 'disappointment' 'horrible' 'unfortunately' 'return' 'threw']\n"
     ]
    }
   ],
   "source": [
    "print(\"Most negative words\", feature_names[sorted_coef_index[:10]])"
   ]
  },
  {
   "cell_type": "code",
   "execution_count": 16,
   "id": "dfdf96cd",
   "metadata": {
    "scrolled": false
   },
   "outputs": [
    {
     "name": "stdout",
     "output_type": "stream",
     "text": [
      "Most positive Words ['great' 'delicious' 'best' 'perfect' 'love' 'excellent' 'highly'\n",
      " 'wonderful' 'favorite']\n"
     ]
    }
   ],
   "source": [
    "print(\"Most positive Words\", feature_names[sorted_coef_index[:-10:-1]])"
   ]
  },
  {
   "cell_type": "code",
   "execution_count": 17,
   "id": "2d045f6b",
   "metadata": {},
   "outputs": [
    {
     "data": {
      "text/plain": [
       "array([[0.54567828, 0.45432172]])"
      ]
     },
     "execution_count": 17,
     "metadata": {},
     "output_type": "execute_result"
    }
   ],
   "source": [
    "test_review = vect.transform([\"product arrived labeled jumbo salted peanutsthe peanut actually small sized unsalted sure error vendor intended represent product jumbo\"])\n",
    "model.predict_proba(test_review)"
   ]
  },
  {
   "cell_type": "code",
   "execution_count": 18,
   "id": "445762c4",
   "metadata": {
    "scrolled": true
   },
   "outputs": [
    {
     "name": "stdout",
     "output_type": "stream",
     "text": [
      "Accuracy: 0.936\n"
     ]
    }
   ],
   "source": [
    "nb_report = accuracy_score(y_test,predictions)\n",
    "print('Accuracy:',round(nb_report,3))"
   ]
  },
  {
   "cell_type": "code",
   "execution_count": 19,
   "id": "e7433f05",
   "metadata": {},
   "outputs": [
    {
     "name": "stdout",
     "output_type": "stream",
     "text": [
      "Precision: 0.946\n"
     ]
    }
   ],
   "source": [
    "nb_report2 = precision_score(y_test,predictions)\n",
    "print('Precision:',round(nb_report2,3))"
   ]
  },
  {
   "cell_type": "code",
   "execution_count": 20,
   "id": "e1956813",
   "metadata": {},
   "outputs": [
    {
     "name": "stdout",
     "output_type": "stream",
     "text": [
      "F-Score: 0.963\n"
     ]
    }
   ],
   "source": [
    "nb_report3 = f1_score(y_test,predictions)\n",
    "print('F-Score:',round(nb_report3,3))"
   ]
  },
  {
   "cell_type": "code",
   "execution_count": 21,
   "id": "1856ccc8",
   "metadata": {},
   "outputs": [
    {
     "name": "stdout",
     "output_type": "stream",
     "text": [
      "ROC-AUC score: 0.838\n"
     ]
    }
   ],
   "source": [
    "nb_report4 = roc_auc_score(y_test,predictions)\n",
    "print('ROC-AUC score:',round(nb_report4,3))"
   ]
  },
  {
   "cell_type": "code",
   "execution_count": 22,
   "id": "f339609f",
   "metadata": {},
   "outputs": [],
   "source": [
    "from sklearn import metrics"
   ]
  },
  {
   "cell_type": "code",
   "execution_count": 23,
   "id": "c2035d7d",
   "metadata": {},
   "outputs": [
    {
     "data": {
      "text/plain": [
       "array([[ 14251,   6239],\n",
       "       [  2212, 108752]], dtype=int64)"
      ]
     },
     "execution_count": 23,
     "metadata": {},
     "output_type": "execute_result"
    }
   ],
   "source": [
    "metrics.confusion_matrix(y_test,predictions)"
   ]
  },
  {
   "cell_type": "code",
   "execution_count": null,
   "id": "c19a5c11",
   "metadata": {},
   "outputs": [],
   "source": []
  }
 ],
 "metadata": {
  "kernelspec": {
   "display_name": "Python 3 (ipykernel)",
   "language": "python",
   "name": "python3"
  },
  "language_info": {
   "codemirror_mode": {
    "name": "ipython",
    "version": 3
   },
   "file_extension": ".py",
   "mimetype": "text/x-python",
   "name": "python",
   "nbconvert_exporter": "python",
   "pygments_lexer": "ipython3",
   "version": "3.8.10"
  }
 },
 "nbformat": 4,
 "nbformat_minor": 5
}
